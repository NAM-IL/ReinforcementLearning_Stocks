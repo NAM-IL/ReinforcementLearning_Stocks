{
  "nbformat": 4,
  "nbformat_minor": 0,
  "metadata": {
    "colab": {
      "name": "ex1.ipynb",
      "version": "0.3.2",
      "provenance": [],
      "collapsed_sections": [],
      "include_colab_link": true
    },
    "kernelspec": {
      "name": "python3",
      "display_name": "Python 3"
    }
  },
  "cells": [
    {
      "cell_type": "markdown",
      "metadata": {
        "id": "view-in-github",
        "colab_type": "text"
      },
      "source": [
        "<a href=\"https://colab.research.google.com/github/NAM-IL/ReinforcementLearning_Stocks/blob/master/ex1.ipynb\" target=\"_parent\"><img src=\"https://colab.research.google.com/assets/colab-badge.svg\" alt=\"Open In Colab\"/></a>"
      ]
    },
    {
      "metadata": {
        "id": "Bo0gV0ciLmTX",
        "colab_type": "code",
        "colab": {
          "base_uri": "https://localhost:8080/",
          "height": 34
        },
        "outputId": "c085d3d1-a621-4961-a98c-b0831e540510"
      },
      "cell_type": "code",
      "source": [
        "import numpy as np\n",
        "from keras.models import Sequential\n",
        "from keras.layers import Activation, LSTM, Dense, BatchNormalization\n",
        "from keras.optimizers import sgd\n"
      ],
      "execution_count": 1,
      "outputs": [
        {
          "output_type": "stream",
          "text": [
            "Using TensorFlow backend.\n"
          ],
          "name": "stderr"
        }
      ]
    },
    {
      "metadata": {
        "id": "JYRXqJPpMdOj",
        "colab_type": "code",
        "colab": {}
      },
      "cell_type": "code",
      "source": [
        ""
      ],
      "execution_count": 0,
      "outputs": []
    },
    {
      "metadata": {
        "id": "lSfjZlkkMO6k",
        "colab_type": "code",
        "colab": {}
      },
      "cell_type": "code",
      "source": [
        "class PolicyNetwork:\n",
        "    def __init__(self, input_dim=0, output_dim=0, lr=0.01):\n",
        "        self.input_dim = input_dim\n",
        "        self.lr = lr\n",
        "\n",
        "        # LSTM 신경망\n",
        "        self.model = Sequential() \n",
        "\n",
        "        self.model.add(LSTM(256, input_shape=(1, input_dim),\n",
        "                            return_sequences=True, stateful=False, dropout=0.5))\n",
        "        self.model.add(BatchNormalization())\n",
        "        self.model.add(LSTM(256, return_sequences=True, stateful=False, dropout=0.5))\n",
        "        self.model.add(BatchNormalization())\n",
        "        self.model.add(LSTM(256, return_sequences=False, stateful=False, dropout=0.5))\n",
        "        self.model.add(BatchNormalization())\n",
        "        self.model.add(Dense(output_dim))\n",
        "        self.model.add(Activation('sigmoid'))\n",
        "\n",
        "        self.model.compile(optimizer=sgd(lr=lr), loss='mse')\n",
        "        self.prob = None\n",
        "        \n",
        "         def reset(self):\n",
        "        self.prob = None\n",
        "\n",
        "    def predict(self, sample):\n",
        "        self.prob = self.model.predict(np.array(sample).reshape((1, -1, self.input_dim)))[0]\n",
        "        return self.prob\n",
        "\n",
        "    def train_on_batch(self, x, y):\n",
        "        return self.model.train_on_batch(x, y)\n",
        "\n",
        "    def save_model(self, model_path):\n",
        "        if model_path is not None and self.model is not None:\n",
        "            self.model.save_weights(model_path, overwrite=True)\n",
        "\n",
        "    def load_model(self, model_path):\n",
        "        if model_path is not None:\n",
        "            self.model.load_weights(model_path)"
      ],
      "execution_count": 0,
      "outputs": []
    }
  ]
}